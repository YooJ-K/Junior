{
 "cells": [
  {
   "cell_type": "markdown",
   "metadata": {},
   "source": [
    "# Homework #1\n",
    "___\n",
    "\n",
    "> you should complete the answer lists \n",
    "```python\n",
    "ex2_1 = []\n",
    "ex2_2 = []\n",
    "ex2_3 = []\n",
    "``` \n",
    ">for answer."
   ]
  },
  {
   "cell_type": "code",
   "execution_count": 1,
   "metadata": {},
   "outputs": [
    {
     "name": "stdout",
     "output_type": "stream",
     "text": [
      "['blank', 'blank', 'blank']\n",
      "['blank', 'blank']\n",
      "['blank', 'blank']\n"
     ]
    }
   ],
   "source": [
    "INIT  = \"blank\" \n",
    "\n",
    "ex2_1 = [INIT]*3\n",
    "ex2_2 = [INIT]*2\n",
    "ex2_3 = [INIT]*2\n",
    "\n",
    "print(ex2_1)\n",
    "print(ex2_2)\n",
    "print(ex2_3)"
   ]
  },
  {
   "cell_type": "markdown",
   "metadata": {},
   "source": [
    "### Excercise 2.1\n",
    "> For each of the following exercises, write a program to solve the problem and display the answer. The program should use variables for <u>*each of the quantities*</u>.    "
   ]
  },
  {
   "cell_type": "markdown",
   "metadata": {},
   "source": [
    "\n",
    ">70. Projectile Motion<br><br>\n",
    ">    Suppose a ball is thrown straight up in the air with an initial velocity of 50 feet per second and an initial height of 5 feet. How high will the ball be after 3 seconds?<br><br>Note: The height after t seconds is given by the expression $h = -16t^2+v_{0}t+h_{0}$, where $v0$ is the initial velocity and $h0$ is the initial height."
   ]
  },
  {
   "cell_type": "code",
   "execution_count": 2,
   "metadata": {},
   "outputs": [
    {
     "name": "stdout",
     "output_type": "stream",
     "text": [
      "11\n"
     ]
    }
   ],
   "source": [
    "#---------------------YOUR CODE-------------------------\n",
    "## 초기화\n",
    "## 초기 속도 v0 = 50 / 초기 높이 h0 = 5 / 시간 t = 3\n",
    "v0 = 50\n",
    "h0 = 5\n",
    "t = 3\n",
    "\n",
    "## 수식 문제에 제시된 식에 그대로 대입\n",
    "h = -16 * t * t + v0 * t + h0\n",
    "\n",
    "print(h)\n",
    "#---------------------YOUR CODE-------------------------\n",
    "ans = h"
   ]
  },
  {
   "cell_type": "code",
   "execution_count": 3,
   "metadata": {},
   "outputs": [
    {
     "name": "stdout",
     "output_type": "stream",
     "text": [
      "11\n"
     ]
    }
   ],
   "source": [
    "ex2_1[0] = ans\n",
    "print(ex2_1[0])"
   ]
  },
  {
   "cell_type": "markdown",
   "metadata": {},
   "source": [
    ">76. Population Increase<br><br>\n",
    ">    Population Increase You grew up in a tiny village and had to move to a nearby city for your undergraduate. When you left, the population was 845. You recently heard that the population of your village has grown by 6.5%.\n",
    ">What is the present population of the village? Round the population to the nearest whole\n",
    "number."
   ]
  },
  {
   "cell_type": "code",
   "execution_count": 4,
   "metadata": {},
   "outputs": [
    {
     "name": "stdout",
     "output_type": "stream",
     "text": [
      "900\n"
     ]
    }
   ],
   "source": [
    "#---------------------YOUR CODE-------------------------\n",
    "## 초기화\n",
    "## 내가 떠날 때 인구 : 845 / 최근 인구의 증가율 : 6.5%\n",
    "old_popul = 845\n",
    "grown = 0.065\n",
    "\n",
    "## 수식 : 현재 인구\n",
    "## 인구의 증가율은 현재 인구에 더 증가된 비율을 이야기하는 것이므로\n",
    "## now_popul = old_popul * (1 + grown) 식을 사용했다. \n",
    "## 가장 가까운 정수로 반올림 해줘야하므로 round( ) 함수를 이용\n",
    "now_popul = round(old_popul * (1 + grown))\n",
    "\n",
    "print(now_popul)\n",
    "#---------------------YOUR CODE-------------------------\n",
    "ans = now_popul"
   ]
  },
  {
   "cell_type": "code",
   "execution_count": 5,
   "metadata": {},
   "outputs": [
    {
     "name": "stdout",
     "output_type": "stream",
     "text": [
      "900\n"
     ]
    }
   ],
   "source": [
    "ex2_1[1] = ans\n",
    "print(ex2_1[1])"
   ]
  },
  {
   "cell_type": "markdown",
   "metadata": {},
   "source": [
    ">78. Calories<br><br>\n",
    ">    Estimate the number of calories in one cubic mile of chocolate ice cream. Note: There are 5,280 feet in a mile and one cubic foot of chocolate ice cream contains about 48,600 calories."
   ]
  },
  {
   "cell_type": "code",
   "execution_count": 6,
   "metadata": {},
   "outputs": [
    {
     "name": "stdout",
     "output_type": "stream",
     "text": [
      "256608000\n"
     ]
    }
   ],
   "source": [
    "#---------------------YOUR CODE-------------------------\n",
    "## 초기화\n",
    "## 1 mile = 5280 feet / 1 foot = 48,600 calories\n",
    "feet = 5280\n",
    "cubic = 48600\n",
    "\n",
    "## 수식\n",
    "cal = feet * cubic\n",
    "\n",
    "print(cal)\n",
    "#---------------------YOUR CODE-------------------------\n",
    "ans     = cal"
   ]
  },
  {
   "cell_type": "code",
   "execution_count": 7,
   "metadata": {},
   "outputs": [
    {
     "name": "stdout",
     "output_type": "stream",
     "text": [
      "256608000\n"
     ]
    }
   ],
   "source": [
    "ex2_1[2] = ans\n",
    "print(ex2_1[2])"
   ]
  },
  {
   "cell_type": "markdown",
   "metadata": {},
   "source": [
    "### Excercise 2.2\n",
    "> **Note : For each of the following exercises, a possible output is shown is shown in a shaded box. Responses to input statements appear underlined. Do not use the format method.**\n"
   ]
  },
  {
   "cell_type": "markdown",
   "metadata": {},
   "source": [
    ">108. Marketing Terms<br><br>\n",
    ">    The markup of an item is the difference between its selling price and its purchase price. Two other marketing terms are<br><br>\n",
    ">$percentage\\ markup = \\frac{markup}{purchase\\ price}\\    \\ and\\   \\ profit\\ margin = \\frac{markup}{selling\\ price}$<br><br>\n",
    "where the quotients are expressed as percentages. Write a program that computes the markup, percentage markup, and profit margin of an item. Notice that when the purchase price is tripled, the percentage markup is 200%.\n",
    "\n",
    "><pre>      [ output ]</pre>\n",
    "><pre>Enter purchase price: 215\n",
    "Enter selling price: 645\n",
    "Markup: $430.0\n",
    "Percentage markup: 200.0%\n",
    "Profit margin: 66.67%</pre>"
   ]
  },
  {
   "cell_type": "code",
   "execution_count": 8,
   "metadata": {},
   "outputs": [
    {
     "name": "stdout",
     "output_type": "stream",
     "text": [
      "Enter purchase price: 215\n",
      "Enter selling price: 645\n",
      "Markup: $430.0\n",
      "Percentage markup: 200.0%\n",
      "Profit margin: 66.67%\n"
     ]
    }
   ],
   "source": [
    "#---------------------YOUR CODE-------------------------\n",
    "## 입력부\n",
    "purchase = int(input(\"Enter purchase price: \"))\n",
    "selling = int(input(\"Enter selling price: \"))\n",
    "\n",
    "## 계산 : 문제에서 제시된 식에 대입했고, per_markup과 pro_margin은\n",
    "## 예시에 각각 소수점 한자리, 두자리 씩 표현되었기 때문에, \n",
    "## round( ) 함수를 이용해서 반올림을 해줬다. \n",
    "markup = float(selling - purchase)\n",
    "per_markup = round(markup / purchase * 100, 1)\n",
    "pro_margin = round(markup / selling * 100, 2)\n",
    "\n",
    "## 출력부 : format 함수를 사용할 수 없으므로(문제 조건으로 인해), sep 매개변수를 이용한다. \n",
    "print(\"Markup: $\", markup, sep='')\n",
    "print('Percentage markup: ', per_markup, '%', sep='')\n",
    "print('Profit margin: ', pro_margin, '%', sep='')\n",
    "#---------------------YOUR CODE-------------------------\n",
    "ans = [markup, per_markup, pro_margin] # you should put the markup, percentage markup, Profit margin"
   ]
  },
  {
   "cell_type": "code",
   "execution_count": 9,
   "metadata": {
    "scrolled": true
   },
   "outputs": [
    {
     "name": "stdout",
     "output_type": "stream",
     "text": [
      "[430.0, 200.0, 66.67]\n"
     ]
    }
   ],
   "source": [
    "ex2_2[0] = ans\n",
    "print(ex2_2[0])"
   ]
  },
  {
   "cell_type": "markdown",
   "metadata": {},
   "source": [
    ">110. Word Replacement<br><br>\n",
    ">    Write a program that requests a sentence, a word in the sentence, and another word and then displays the sentence with the first word replaced by the second.\n",
    "     \n",
    "><pre>                      [ output ]</pre>\n",
    "><pre>Enter a sentence: What you don't <u>know</u> won't hurt you.\n",
    "Enter word to replace: <u>know</u>\n",
    "Enter replacement word: <u>owe</u>\n",
    "What you don't <u>owe</u> won't hurt you.\n",
    "</pre>"
   ]
  },
  {
   "cell_type": "code",
   "execution_count": 10,
   "metadata": {
    "scrolled": true
   },
   "outputs": [
    {
     "name": "stdout",
     "output_type": "stream",
     "text": [
      "Enter a sentence: What you don't know won't hurt you.\n",
      "Enter word to replace: know\n",
      "Enter replacement word: owe\n",
      "What you don't owe won't hurt you.\n"
     ]
    }
   ],
   "source": [
    "#---------------------YOUR CODE-------------------------\n",
    "## 입력부\n",
    "sentence = input(\"Enter a sentence: \")\n",
    "wordToR = input(\"Enter word to replace: \")\n",
    "replace = input(\"Enter replacement word: \")\n",
    "\n",
    "## 문자 변경 replace 함수를 이용해서 변경한다. \n",
    "change = sentence.replace(wordToR, replace)\n",
    "\n",
    "print(change)\n",
    "#---------------------YOUR CODE-------------------------\n",
    "ans = [sentence, wordToR, replace, change] # ans = [ original_sentence, word in the sentence, replacing word, changed_sentence ]"
   ]
  },
  {
   "cell_type": "code",
   "execution_count": 11,
   "metadata": {
    "scrolled": true
   },
   "outputs": [
    {
     "name": "stdout",
     "output_type": "stream",
     "text": [
      "What you don't know won't hurt you.\n",
      "-> What you don't owe won't hurt you.\n"
     ]
    }
   ],
   "source": [
    "ex2_2[1] = ans\n",
    "print(f'{ex2_2[1][0]}\\n-> {ex2_2[1][-1]}')"
   ]
  },
  {
   "cell_type": "markdown",
   "metadata": {},
   "source": [
    "### Exercise 2.3\n",
    ">**For each of the following exercises, a possible output is shown in a shaded box. Responses to input statements appear underlined. The program should use the format method to display the outputs.**"
   ]
  },
  {
   "cell_type": "markdown",
   "metadata": {},
   "source": [
    ">56. Change in Salary<br><br>\n",
    ">    A common misconception is that if you receive three successive 5% pay raises, then\n",
    "your original salary will have increased by 15%. Request a salary as input and then display the salary after receiving three successive 5% pay raises. The program also should display the percentage change in salary.\n",
    "    \n",
    "><pre>        [ output ]</pre>\n",
    "><pre>Enter beginning salary: <u>35000</u>\n",
    "New salary: $40,516.88\n",
    "Change: 15.76%</pre>"
   ]
  },
  {
   "cell_type": "code",
   "execution_count": 12,
   "metadata": {},
   "outputs": [
    {
     "name": "stdout",
     "output_type": "stream",
     "text": [
      "Enter beginning salary: 35000\n",
      "New salary: $40,516.88\n",
      "Change: 15.76%\n"
     ]
    }
   ],
   "source": [
    "#---------------------YOUR CODE-------------------------\n",
    "## 입력부\n",
    "old_salary = int(input(\"Enter beginning salary: \"))\n",
    "\n",
    "## 계산\n",
    "## 해마다 5프로 상승하므로, 1.05 씩 3번 곱해준다. \n",
    "## 얼마나 봉급이 올랐는지 퍼센테이지는 밑의 두 식 중 하나를 이용해 도출 가능\n",
    "## (salary - old_salary) / old_salary\n",
    "## salary / old_salary – 1\n",
    "salary = old_salary\n",
    "for _ in range(3):\n",
    "    salary *= 1.05\n",
    "change = (salary - old_salary) / old_salary\n",
    "\n",
    "## 출력부\n",
    "## formatting 함수를 이용해야한다. \n",
    "## new salary 답 예시를 보면 콤마로 세자리씩 구분되어있으므로, 0:,.2f를 사용해야한다. \n",
    "## change는 percentage 이므로, .2%를 사용했다. \n",
    "print(\"New salary: ${0:,.2f}\\nChange: {1:.2%}\".format(salary, change))\n",
    "#---------------------YOUR CODE-------------------------\n",
    "ans = [salary, change]"
   ]
  },
  {
   "cell_type": "code",
   "execution_count": 13,
   "metadata": {},
   "outputs": [
    {
     "name": "stdout",
     "output_type": "stream",
     "text": [
      "[40516.875, 0.157625]\n"
     ]
    }
   ],
   "source": [
    "ex2_3[0] = ans\n",
    "print(ex2_3[0])"
   ]
  },
  {
   "cell_type": "markdown",
   "metadata": {},
   "source": [
    ">58. Present Value<br><br>\n",
    ">    The present value of f dollars at interest rate r% compounded annually for n years is the amount of money that must be invested now in order to grow to f dollars (called the future value) in n years\n",
    "where the interest rate is r% per year. The formula for present value is<br><br>\n",
    ">$present\\ value = \\frac{f}{(1+\\frac{r}{100})^n}$<br><br>\n",
    ">Calculate the present value of an investment after the user enters the future value, interest rate, and number\n",
    "of years. The following figure shows that at 4% interest per year, \\\\$7,903.15 must be invested now in order to\n",
    "have $10,000 after 6 years.\n",
    "\n",
    "><pre>       [ example ]</pre>\n",
    "><pre>Enter future value : <u>10000</u>\n",
    "Enter interest rate (as %): <u>4</u>\n",
    "Enter number of years: <u>6</u>\n",
    "Present value: $7,903.15</pre>"
   ]
  },
  {
   "cell_type": "code",
   "execution_count": 14,
   "metadata": {
    "scrolled": true
   },
   "outputs": [
    {
     "name": "stdout",
     "output_type": "stream",
     "text": [
      "Enter future value : 10000\n",
      "Enter interest rate (as %): 4\n",
      "Enter numver of years: 6\n",
      "Present value: $7,903.15\n"
     ]
    }
   ],
   "source": [
    "#---------------------YOUR CODE-------------------------\n",
    "f = int(input(\"Enter future value : \"))\n",
    "r = int(input(\"Enter interest rate (as %): \"))\n",
    "n = int(input(\"Enter number of years: \"))\n",
    "\n",
    "## 수식\n",
    "## 문제에 제시된 수식대로 계산해주기 위해서 for문을 사용했다.\n",
    "## while 문을 사용해도 무방함\n",
    "pre = 1\n",
    "for _ in range(n):\n",
    "    pre *= (1 + r / 100)\n",
    "    \n",
    "pre_val = f / pre\n",
    "\n",
    "print(\"Present value: ${0:,.2f}\".format(pre_val))\n",
    "#---------------------YOUR CODE-------------------------\n",
    "ans = pre_val"
   ]
  },
  {
   "cell_type": "code",
   "execution_count": 15,
   "metadata": {},
   "outputs": [
    {
     "name": "stdout",
     "output_type": "stream",
     "text": [
      "7903.145257301457\n"
     ]
    }
   ],
   "source": [
    "ex2_3[1] = ans\n",
    "print(ex2_3[1])"
   ]
  },
  {
   "cell_type": "code",
   "execution_count": 16,
   "metadata": {
    "scrolled": false
   },
   "outputs": [
    {
     "name": "stdout",
     "output_type": "stream",
     "text": [
      "ex2_1 = [11, 900, 256608000]\n",
      "ex2_2 = [[430.0, 200.0, 66.67], [\"What you don't know won't hurt you.\", 'know', 'owe', \"What you don't owe won't hurt you.\"]]\n",
      "ex2_3 = [[40516.875, 0.157625], 7903.145257301457]\n"
     ]
    }
   ],
   "source": [
    "print(f'ex2_1 = {ex2_1}\\nex2_2 = {ex2_2}\\nex2_3 = {ex2_3}')"
   ]
  },
  {
   "cell_type": "code",
   "execution_count": null,
   "metadata": {},
   "outputs": [],
   "source": []
  }
 ],
 "metadata": {
  "kernelspec": {
   "display_name": "Python 3",
   "language": "python",
   "name": "python3"
  },
  "language_info": {
   "codemirror_mode": {
    "name": "ipython",
    "version": 3
   },
   "file_extension": ".py",
   "mimetype": "text/x-python",
   "name": "python",
   "nbconvert_exporter": "python",
   "pygments_lexer": "ipython3",
   "version": "3.8.4"
  }
 },
 "nbformat": 4,
 "nbformat_minor": 4
}
